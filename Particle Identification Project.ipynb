{
 "cells": [
  {
   "cell_type": "markdown",
   "metadata": {},
   "source": [
    "## Final Project\n",
    "\n",
    "Data source:\n",
    "https://archive.ics.uci.edu/ml/datasets/MiniBooNE+particle+identification\n",
    "\n",
    "Made for the machine learning course as part of the data science certificate, this project uses data consisting of 50 features of measured signals, identifying each signal as a neutrino particle or background noise. \n",
    "\n",
    "Neutrinos are very difficult to detect since they interact very little with matter, and require very large and sensitive detectors. The more sensitive an instrument, the more background noise, so correctly identifying signals allows scientists to pull meaningful information from large and noisy datasets.\n",
    "\n",
    "The first row of our data has two values, the number of neutrino signals and the number of background events. Below that we have the neutrino rows and then the background rows, both with 50 features. Not much feature transformation here, so this project compares the performance of two models: a random forest classifier (sklearn.ensemble.RandomForestClassifier) and neural network classifier (tensorflow.keras.models.Sequential)"
   ]
  },
  {
   "cell_type": "markdown",
   "metadata": {},
   "source": [
    "## Importing Data + Assigning a Training and Test Set"
   ]
  },
  {
   "cell_type": "code",
   "execution_count": 1,
   "metadata": {},
   "outputs": [
    {
     "data": {
      "text/html": [
       "<div>\n",
       "<style scoped>\n",
       "    .dataframe tbody tr th:only-of-type {\n",
       "        vertical-align: middle;\n",
       "    }\n",
       "\n",
       "    .dataframe tbody tr th {\n",
       "        vertical-align: top;\n",
       "    }\n",
       "\n",
       "    .dataframe thead th {\n",
       "        text-align: right;\n",
       "    }\n",
       "</style>\n",
       "<table border=\"1\" class=\"dataframe\">\n",
       "  <thead>\n",
       "    <tr style=\"text-align: right;\">\n",
       "      <th></th>\n",
       "      <th>0</th>\n",
       "      <th>1</th>\n",
       "      <th>2</th>\n",
       "      <th>3</th>\n",
       "      <th>4</th>\n",
       "      <th>5</th>\n",
       "      <th>6</th>\n",
       "      <th>7</th>\n",
       "      <th>8</th>\n",
       "      <th>9</th>\n",
       "      <th>...</th>\n",
       "      <th>40</th>\n",
       "      <th>41</th>\n",
       "      <th>42</th>\n",
       "      <th>43</th>\n",
       "      <th>44</th>\n",
       "      <th>45</th>\n",
       "      <th>46</th>\n",
       "      <th>47</th>\n",
       "      <th>48</th>\n",
       "      <th>49</th>\n",
       "    </tr>\n",
       "  </thead>\n",
       "  <tbody>\n",
       "    <tr>\n",
       "      <th>0</th>\n",
       "      <td>2.59413</td>\n",
       "      <td>0.468803</td>\n",
       "      <td>20.6916</td>\n",
       "      <td>0.322648</td>\n",
       "      <td>0.009682</td>\n",
       "      <td>0.374393</td>\n",
       "      <td>0.803479</td>\n",
       "      <td>0.896592</td>\n",
       "      <td>3.59665</td>\n",
       "      <td>0.249282</td>\n",
       "      <td>...</td>\n",
       "      <td>101.174</td>\n",
       "      <td>-31.3730</td>\n",
       "      <td>0.442259</td>\n",
       "      <td>5.86453</td>\n",
       "      <td>0.000000</td>\n",
       "      <td>0.090519</td>\n",
       "      <td>0.176909</td>\n",
       "      <td>0.457585</td>\n",
       "      <td>0.071769</td>\n",
       "      <td>0.245996</td>\n",
       "    </tr>\n",
       "    <tr>\n",
       "      <th>1</th>\n",
       "      <td>3.86388</td>\n",
       "      <td>0.645781</td>\n",
       "      <td>18.1375</td>\n",
       "      <td>0.233529</td>\n",
       "      <td>0.030733</td>\n",
       "      <td>0.361239</td>\n",
       "      <td>1.069740</td>\n",
       "      <td>0.878714</td>\n",
       "      <td>3.59243</td>\n",
       "      <td>0.200793</td>\n",
       "      <td>...</td>\n",
       "      <td>186.516</td>\n",
       "      <td>45.9597</td>\n",
       "      <td>-0.478507</td>\n",
       "      <td>6.11126</td>\n",
       "      <td>0.001182</td>\n",
       "      <td>0.091800</td>\n",
       "      <td>-0.465572</td>\n",
       "      <td>0.935523</td>\n",
       "      <td>0.333613</td>\n",
       "      <td>0.230621</td>\n",
       "    </tr>\n",
       "    <tr>\n",
       "      <th>2</th>\n",
       "      <td>3.38584</td>\n",
       "      <td>1.197140</td>\n",
       "      <td>36.0807</td>\n",
       "      <td>0.200866</td>\n",
       "      <td>0.017341</td>\n",
       "      <td>0.260841</td>\n",
       "      <td>1.108950</td>\n",
       "      <td>0.884405</td>\n",
       "      <td>3.43159</td>\n",
       "      <td>0.177167</td>\n",
       "      <td>...</td>\n",
       "      <td>129.931</td>\n",
       "      <td>-11.5608</td>\n",
       "      <td>-0.297008</td>\n",
       "      <td>8.27204</td>\n",
       "      <td>0.003854</td>\n",
       "      <td>0.141721</td>\n",
       "      <td>-0.210559</td>\n",
       "      <td>1.013450</td>\n",
       "      <td>0.255512</td>\n",
       "      <td>0.180901</td>\n",
       "    </tr>\n",
       "    <tr>\n",
       "      <th>3</th>\n",
       "      <td>4.28524</td>\n",
       "      <td>0.510155</td>\n",
       "      <td>674.2010</td>\n",
       "      <td>0.281923</td>\n",
       "      <td>0.009174</td>\n",
       "      <td>0.000000</td>\n",
       "      <td>0.998822</td>\n",
       "      <td>0.823390</td>\n",
       "      <td>3.16382</td>\n",
       "      <td>0.171678</td>\n",
       "      <td>...</td>\n",
       "      <td>163.978</td>\n",
       "      <td>-18.4586</td>\n",
       "      <td>0.453886</td>\n",
       "      <td>2.48112</td>\n",
       "      <td>0.000000</td>\n",
       "      <td>0.180938</td>\n",
       "      <td>0.407968</td>\n",
       "      <td>4.341270</td>\n",
       "      <td>0.473081</td>\n",
       "      <td>0.258990</td>\n",
       "    </tr>\n",
       "    <tr>\n",
       "      <th>4</th>\n",
       "      <td>5.93662</td>\n",
       "      <td>0.832993</td>\n",
       "      <td>59.8796</td>\n",
       "      <td>0.232853</td>\n",
       "      <td>0.025066</td>\n",
       "      <td>0.233556</td>\n",
       "      <td>1.370040</td>\n",
       "      <td>0.787424</td>\n",
       "      <td>3.66546</td>\n",
       "      <td>0.174862</td>\n",
       "      <td>...</td>\n",
       "      <td>229.555</td>\n",
       "      <td>42.9600</td>\n",
       "      <td>-0.975752</td>\n",
       "      <td>2.66109</td>\n",
       "      <td>0.000000</td>\n",
       "      <td>0.170836</td>\n",
       "      <td>-0.814403</td>\n",
       "      <td>4.679490</td>\n",
       "      <td>1.924990</td>\n",
       "      <td>0.253893</td>\n",
       "    </tr>\n",
       "  </tbody>\n",
       "</table>\n",
       "<p>5 rows × 50 columns</p>\n",
       "</div>"
      ],
      "text/plain": [
       "        0         1         2         3         4         5         6   \\\n",
       "0  2.59413  0.468803   20.6916  0.322648  0.009682  0.374393  0.803479   \n",
       "1  3.86388  0.645781   18.1375  0.233529  0.030733  0.361239  1.069740   \n",
       "2  3.38584  1.197140   36.0807  0.200866  0.017341  0.260841  1.108950   \n",
       "3  4.28524  0.510155  674.2010  0.281923  0.009174  0.000000  0.998822   \n",
       "4  5.93662  0.832993   59.8796  0.232853  0.025066  0.233556  1.370040   \n",
       "\n",
       "         7        8         9   ...       40       41        42       43  \\\n",
       "0  0.896592  3.59665  0.249282  ...  101.174 -31.3730  0.442259  5.86453   \n",
       "1  0.878714  3.59243  0.200793  ...  186.516  45.9597 -0.478507  6.11126   \n",
       "2  0.884405  3.43159  0.177167  ...  129.931 -11.5608 -0.297008  8.27204   \n",
       "3  0.823390  3.16382  0.171678  ...  163.978 -18.4586  0.453886  2.48112   \n",
       "4  0.787424  3.66546  0.174862  ...  229.555  42.9600 -0.975752  2.66109   \n",
       "\n",
       "         44        45        46        47        48        49  \n",
       "0  0.000000  0.090519  0.176909  0.457585  0.071769  0.245996  \n",
       "1  0.001182  0.091800 -0.465572  0.935523  0.333613  0.230621  \n",
       "2  0.003854  0.141721 -0.210559  1.013450  0.255512  0.180901  \n",
       "3  0.000000  0.180938  0.407968  4.341270  0.473081  0.258990  \n",
       "4  0.000000  0.170836 -0.814403  4.679490  1.924990  0.253893  \n",
       "\n",
       "[5 rows x 50 columns]"
      ]
     },
     "execution_count": 1,
     "metadata": {},
     "output_type": "execute_result"
    }
   ],
   "source": [
    "import pandas as pd\n",
    "import numpy as np\n",
    "import matplotlib.pyplot as plt\n",
    "\n",
    "%matplotlib inline \n",
    "\n",
    "#reproducibility\n",
    "np.random.seed(123)\n",
    "\n",
    "\n",
    "#create our table of data, exclude the first row \n",
    "particle_identification = pd.read_csv('MiniBooNE_PID.txt', skiprows=1, header=None, delim_whitespace=True)\n",
    "\n",
    "#grab the number of neutrino and background signals from the first row\n",
    "labels = np.loadtxt('MiniBooNE_PID.txt', usecols=(0,1), dtype=int)\n",
    "signal, background = labels[0]\n",
    "\n",
    "particle_identification.head()"
   ]
  },
  {
   "cell_type": "code",
   "execution_count": 2,
   "metadata": {},
   "outputs": [
    {
     "name": "stdout",
     "output_type": "stream",
     "text": [
      "dataset shape: (130064, 51) \n",
      "training shape: (104051, 50) (104051,) \n",
      "testing shape: (26013, 50) (26013,)\n"
     ]
    }
   ],
   "source": [
    "#label our data, 1 for signal and 0 for background\n",
    "particle_identification['labels'] = 0\n",
    "particle_identification.loc[:signal,'labels'] = 1\n",
    "\n",
    "#create the training and test sets with 80/20 split\n",
    "target = 'labels'\n",
    "features = range(50)\n",
    "\n",
    "from sklearn.model_selection import train_test_split\n",
    "training, testing = train_test_split(particle_identification, test_size=0.2, random_state=123)\n",
    "\n",
    "x_train = training[features]\n",
    "y_train = training[target]\n",
    "\n",
    "x_test = testing[features]\n",
    "y_test = testing[target]\n",
    "\n",
    "print(\"dataset shape:\", particle_identification.shape,\n",
    "    \"\\ntraining shape:\", x_train.shape, y_train.shape,\n",
    "     \"\\ntesting shape:\", x_test.shape, y_test.shape)"
   ]
  },
  {
   "cell_type": "markdown",
   "metadata": {},
   "source": [
    "## Looking at the Training Set"
   ]
  },
  {
   "cell_type": "code",
   "execution_count": 3,
   "metadata": {},
   "outputs": [
    {
     "data": {
      "text/html": [
       "<div>\n",
       "<style scoped>\n",
       "    .dataframe tbody tr th:only-of-type {\n",
       "        vertical-align: middle;\n",
       "    }\n",
       "\n",
       "    .dataframe tbody tr th {\n",
       "        vertical-align: top;\n",
       "    }\n",
       "\n",
       "    .dataframe thead th {\n",
       "        text-align: right;\n",
       "    }\n",
       "</style>\n",
       "<table border=\"1\" class=\"dataframe\">\n",
       "  <thead>\n",
       "    <tr style=\"text-align: right;\">\n",
       "      <th></th>\n",
       "      <th>0</th>\n",
       "      <th>1</th>\n",
       "      <th>2</th>\n",
       "      <th>3</th>\n",
       "      <th>4</th>\n",
       "      <th>5</th>\n",
       "      <th>6</th>\n",
       "      <th>7</th>\n",
       "      <th>8</th>\n",
       "      <th>9</th>\n",
       "      <th>...</th>\n",
       "      <th>40</th>\n",
       "      <th>41</th>\n",
       "      <th>42</th>\n",
       "      <th>43</th>\n",
       "      <th>44</th>\n",
       "      <th>45</th>\n",
       "      <th>46</th>\n",
       "      <th>47</th>\n",
       "      <th>48</th>\n",
       "      <th>49</th>\n",
       "    </tr>\n",
       "  </thead>\n",
       "  <tbody>\n",
       "    <tr>\n",
       "      <th>113781</th>\n",
       "      <td>6.08667</td>\n",
       "      <td>1.901430</td>\n",
       "      <td>84.788</td>\n",
       "      <td>0.239360</td>\n",
       "      <td>0.019108</td>\n",
       "      <td>0.127566</td>\n",
       "      <td>1.153770</td>\n",
       "      <td>0.758970</td>\n",
       "      <td>3.84736</td>\n",
       "      <td>0.151012</td>\n",
       "      <td>...</td>\n",
       "      <td>171.665</td>\n",
       "      <td>-17.79030</td>\n",
       "      <td>0.020170</td>\n",
       "      <td>10.20570</td>\n",
       "      <td>0.010616</td>\n",
       "      <td>0.169444</td>\n",
       "      <td>-0.735545</td>\n",
       "      <td>2.94238</td>\n",
       "      <td>1.198250</td>\n",
       "      <td>0.188569</td>\n",
       "    </tr>\n",
       "    <tr>\n",
       "      <th>117244</th>\n",
       "      <td>4.07462</td>\n",
       "      <td>1.130100</td>\n",
       "      <td>147.061</td>\n",
       "      <td>0.246624</td>\n",
       "      <td>0.005025</td>\n",
       "      <td>0.141181</td>\n",
       "      <td>0.895764</td>\n",
       "      <td>0.846038</td>\n",
       "      <td>3.50311</td>\n",
       "      <td>0.162632</td>\n",
       "      <td>...</td>\n",
       "      <td>136.197</td>\n",
       "      <td>-27.43950</td>\n",
       "      <td>0.644155</td>\n",
       "      <td>4.91749</td>\n",
       "      <td>0.000000</td>\n",
       "      <td>0.127909</td>\n",
       "      <td>0.146462</td>\n",
       "      <td>1.31436</td>\n",
       "      <td>0.109223</td>\n",
       "      <td>0.224994</td>\n",
       "    </tr>\n",
       "    <tr>\n",
       "      <th>120730</th>\n",
       "      <td>4.90690</td>\n",
       "      <td>0.967270</td>\n",
       "      <td>109.646</td>\n",
       "      <td>0.307747</td>\n",
       "      <td>0.000000</td>\n",
       "      <td>0.217703</td>\n",
       "      <td>0.801289</td>\n",
       "      <td>0.856233</td>\n",
       "      <td>3.41168</td>\n",
       "      <td>0.173626</td>\n",
       "      <td>...</td>\n",
       "      <td>166.598</td>\n",
       "      <td>-34.72940</td>\n",
       "      <td>-0.473469</td>\n",
       "      <td>4.95188</td>\n",
       "      <td>0.001484</td>\n",
       "      <td>0.169211</td>\n",
       "      <td>0.060600</td>\n",
       "      <td>1.79664</td>\n",
       "      <td>0.472377</td>\n",
       "      <td>0.256854</td>\n",
       "    </tr>\n",
       "    <tr>\n",
       "      <th>78468</th>\n",
       "      <td>6.09699</td>\n",
       "      <td>0.374449</td>\n",
       "      <td>693.649</td>\n",
       "      <td>0.346900</td>\n",
       "      <td>0.011179</td>\n",
       "      <td>0.000000</td>\n",
       "      <td>1.473670</td>\n",
       "      <td>0.853761</td>\n",
       "      <td>3.59591</td>\n",
       "      <td>0.133896</td>\n",
       "      <td>...</td>\n",
       "      <td>174.164</td>\n",
       "      <td>8.76786</td>\n",
       "      <td>-0.384016</td>\n",
       "      <td>4.94336</td>\n",
       "      <td>0.000000</td>\n",
       "      <td>0.114539</td>\n",
       "      <td>0.746638</td>\n",
       "      <td>2.64202</td>\n",
       "      <td>4.957190</td>\n",
       "      <td>0.215420</td>\n",
       "    </tr>\n",
       "    <tr>\n",
       "      <th>86659</th>\n",
       "      <td>6.03048</td>\n",
       "      <td>1.546450</td>\n",
       "      <td>127.147</td>\n",
       "      <td>0.325971</td>\n",
       "      <td>0.000000</td>\n",
       "      <td>0.147721</td>\n",
       "      <td>0.744415</td>\n",
       "      <td>0.727355</td>\n",
       "      <td>3.47104</td>\n",
       "      <td>0.160926</td>\n",
       "      <td>...</td>\n",
       "      <td>202.109</td>\n",
       "      <td>-25.56930</td>\n",
       "      <td>-0.352642</td>\n",
       "      <td>3.26569</td>\n",
       "      <td>0.000000</td>\n",
       "      <td>0.173205</td>\n",
       "      <td>0.514645</td>\n",
       "      <td>4.85703</td>\n",
       "      <td>6.030930</td>\n",
       "      <td>0.221028</td>\n",
       "    </tr>\n",
       "  </tbody>\n",
       "</table>\n",
       "<p>5 rows × 50 columns</p>\n",
       "</div>"
      ],
      "text/plain": [
       "             0         1        2         3         4         5         6   \\\n",
       "113781  6.08667  1.901430   84.788  0.239360  0.019108  0.127566  1.153770   \n",
       "117244  4.07462  1.130100  147.061  0.246624  0.005025  0.141181  0.895764   \n",
       "120730  4.90690  0.967270  109.646  0.307747  0.000000  0.217703  0.801289   \n",
       "78468   6.09699  0.374449  693.649  0.346900  0.011179  0.000000  1.473670   \n",
       "86659   6.03048  1.546450  127.147  0.325971  0.000000  0.147721  0.744415   \n",
       "\n",
       "              7        8         9   ...       40        41        42  \\\n",
       "113781  0.758970  3.84736  0.151012  ...  171.665 -17.79030  0.020170   \n",
       "117244  0.846038  3.50311  0.162632  ...  136.197 -27.43950  0.644155   \n",
       "120730  0.856233  3.41168  0.173626  ...  166.598 -34.72940 -0.473469   \n",
       "78468   0.853761  3.59591  0.133896  ...  174.164   8.76786 -0.384016   \n",
       "86659   0.727355  3.47104  0.160926  ...  202.109 -25.56930 -0.352642   \n",
       "\n",
       "              43        44        45        46       47        48        49  \n",
       "113781  10.20570  0.010616  0.169444 -0.735545  2.94238  1.198250  0.188569  \n",
       "117244   4.91749  0.000000  0.127909  0.146462  1.31436  0.109223  0.224994  \n",
       "120730   4.95188  0.001484  0.169211  0.060600  1.79664  0.472377  0.256854  \n",
       "78468    4.94336  0.000000  0.114539  0.746638  2.64202  4.957190  0.215420  \n",
       "86659    3.26569  0.000000  0.173205  0.514645  4.85703  6.030930  0.221028  \n",
       "\n",
       "[5 rows x 50 columns]"
      ]
     },
     "execution_count": 3,
     "metadata": {},
     "output_type": "execute_result"
    }
   ],
   "source": [
    "x_train.head()"
   ]
  },
  {
   "cell_type": "code",
   "execution_count": 4,
   "metadata": {},
   "outputs": [
    {
     "data": {
      "text/html": [
       "<div>\n",
       "<style scoped>\n",
       "    .dataframe tbody tr th:only-of-type {\n",
       "        vertical-align: middle;\n",
       "    }\n",
       "\n",
       "    .dataframe tbody tr th {\n",
       "        vertical-align: top;\n",
       "    }\n",
       "\n",
       "    .dataframe thead th {\n",
       "        text-align: right;\n",
       "    }\n",
       "</style>\n",
       "<table border=\"1\" class=\"dataframe\">\n",
       "  <thead>\n",
       "    <tr style=\"text-align: right;\">\n",
       "      <th></th>\n",
       "      <th>0</th>\n",
       "      <th>1</th>\n",
       "      <th>2</th>\n",
       "      <th>3</th>\n",
       "      <th>4</th>\n",
       "      <th>5</th>\n",
       "      <th>6</th>\n",
       "      <th>7</th>\n",
       "      <th>8</th>\n",
       "      <th>9</th>\n",
       "      <th>...</th>\n",
       "      <th>40</th>\n",
       "      <th>41</th>\n",
       "      <th>42</th>\n",
       "      <th>43</th>\n",
       "      <th>44</th>\n",
       "      <th>45</th>\n",
       "      <th>46</th>\n",
       "      <th>47</th>\n",
       "      <th>48</th>\n",
       "      <th>49</th>\n",
       "    </tr>\n",
       "  </thead>\n",
       "  <tbody>\n",
       "    <tr>\n",
       "      <th>count</th>\n",
       "      <td>104051.000000</td>\n",
       "      <td>104051.000000</td>\n",
       "      <td>104051.000000</td>\n",
       "      <td>104051.000000</td>\n",
       "      <td>104051.000000</td>\n",
       "      <td>104051.000000</td>\n",
       "      <td>104051.000000</td>\n",
       "      <td>104051.000000</td>\n",
       "      <td>104051.000000</td>\n",
       "      <td>104051.000000</td>\n",
       "      <td>...</td>\n",
       "      <td>104051.000000</td>\n",
       "      <td>104051.000000</td>\n",
       "      <td>104051.000000</td>\n",
       "      <td>104051.000000</td>\n",
       "      <td>104051.000000</td>\n",
       "      <td>104051.000000</td>\n",
       "      <td>104051.000000</td>\n",
       "      <td>104051.000000</td>\n",
       "      <td>104051.000000</td>\n",
       "      <td>104051.000000</td>\n",
       "    </tr>\n",
       "    <tr>\n",
       "      <th>mean</th>\n",
       "      <td>1.391436</td>\n",
       "      <td>-1.968469</td>\n",
       "      <td>123.922658</td>\n",
       "      <td>-3.174114</td>\n",
       "      <td>-3.447119</td>\n",
       "      <td>-3.296034</td>\n",
       "      <td>-2.489737</td>\n",
       "      <td>-2.635440</td>\n",
       "      <td>-0.016763</td>\n",
       "      <td>-3.283057</td>\n",
       "      <td>...</td>\n",
       "      <td>141.305164</td>\n",
       "      <td>-25.059731</td>\n",
       "      <td>-2.728531</td>\n",
       "      <td>2.538039</td>\n",
       "      <td>-3.447381</td>\n",
       "      <td>-3.278175</td>\n",
       "      <td>-3.614399</td>\n",
       "      <td>-0.607374</td>\n",
       "      <td>-1.848182</td>\n",
       "      <td>-3.226439</td>\n",
       "    </tr>\n",
       "    <tr>\n",
       "      <th>std</th>\n",
       "      <td>58.957217</td>\n",
       "      <td>58.754099</td>\n",
       "      <td>194.270763</td>\n",
       "      <td>58.676803</td>\n",
       "      <td>58.660688</td>\n",
       "      <td>58.669717</td>\n",
       "      <td>58.718091</td>\n",
       "      <td>58.708555</td>\n",
       "      <td>58.863379</td>\n",
       "      <td>58.670370</td>\n",
       "      <td>...</td>\n",
       "      <td>74.283624</td>\n",
       "      <td>66.559500</td>\n",
       "      <td>58.715643</td>\n",
       "      <td>59.189446</td>\n",
       "      <td>58.660678</td>\n",
       "      <td>58.670696</td>\n",
       "      <td>58.658871</td>\n",
       "      <td>58.858996</td>\n",
       "      <td>58.787424</td>\n",
       "      <td>58.673713</td>\n",
       "    </tr>\n",
       "    <tr>\n",
       "      <th>min</th>\n",
       "      <td>-999.000000</td>\n",
       "      <td>-999.000000</td>\n",
       "      <td>-999.000000</td>\n",
       "      <td>-999.000000</td>\n",
       "      <td>-999.000000</td>\n",
       "      <td>-999.000000</td>\n",
       "      <td>-999.000000</td>\n",
       "      <td>-999.000000</td>\n",
       "      <td>-999.000000</td>\n",
       "      <td>-999.000000</td>\n",
       "      <td>...</td>\n",
       "      <td>-999.000000</td>\n",
       "      <td>-999.000000</td>\n",
       "      <td>-999.000000</td>\n",
       "      <td>-999.000000</td>\n",
       "      <td>-999.000000</td>\n",
       "      <td>-999.000000</td>\n",
       "      <td>-999.000000</td>\n",
       "      <td>-999.000000</td>\n",
       "      <td>-999.000000</td>\n",
       "      <td>-999.000000</td>\n",
       "    </tr>\n",
       "    <tr>\n",
       "      <th>25%</th>\n",
       "      <td>4.014145</td>\n",
       "      <td>0.877140</td>\n",
       "      <td>49.284250</td>\n",
       "      <td>0.241627</td>\n",
       "      <td>0.000000</td>\n",
       "      <td>0.085343</td>\n",
       "      <td>0.715976</td>\n",
       "      <td>0.783354</td>\n",
       "      <td>3.285645</td>\n",
       "      <td>0.142850</td>\n",
       "      <td>...</td>\n",
       "      <td>122.917000</td>\n",
       "      <td>-40.085750</td>\n",
       "      <td>-0.028701</td>\n",
       "      <td>3.421455</td>\n",
       "      <td>0.000000</td>\n",
       "      <td>0.121924</td>\n",
       "      <td>-0.343828</td>\n",
       "      <td>1.421775</td>\n",
       "      <td>0.273633</td>\n",
       "      <td>0.197400</td>\n",
       "    </tr>\n",
       "    <tr>\n",
       "      <th>50%</th>\n",
       "      <td>4.788010</td>\n",
       "      <td>1.382170</td>\n",
       "      <td>106.108000</td>\n",
       "      <td>0.272136</td>\n",
       "      <td>0.004975</td>\n",
       "      <td>0.141268</td>\n",
       "      <td>0.922565</td>\n",
       "      <td>0.833894</td>\n",
       "      <td>3.427120</td>\n",
       "      <td>0.170573</td>\n",
       "      <td>...</td>\n",
       "      <td>145.366000</td>\n",
       "      <td>-21.611500</td>\n",
       "      <td>0.459658</td>\n",
       "      <td>4.766360</td>\n",
       "      <td>0.000000</td>\n",
       "      <td>0.168504</td>\n",
       "      <td>0.042703</td>\n",
       "      <td>2.367630</td>\n",
       "      <td>1.126900</td>\n",
       "      <td>0.231338</td>\n",
       "    </tr>\n",
       "    <tr>\n",
       "      <th>75%</th>\n",
       "      <td>5.628740</td>\n",
       "      <td>1.947860</td>\n",
       "      <td>138.801000</td>\n",
       "      <td>0.315113</td>\n",
       "      <td>0.013080</td>\n",
       "      <td>0.212898</td>\n",
       "      <td>1.180470</td>\n",
       "      <td>0.874156</td>\n",
       "      <td>3.585440</td>\n",
       "      <td>0.200056</td>\n",
       "      <td>...</td>\n",
       "      <td>167.018000</td>\n",
       "      <td>-3.313500</td>\n",
       "      <td>1.147920</td>\n",
       "      <td>6.864360</td>\n",
       "      <td>0.001988</td>\n",
       "      <td>0.224723</td>\n",
       "      <td>0.294466</td>\n",
       "      <td>3.778200</td>\n",
       "      <td>2.283790</td>\n",
       "      <td>0.263183</td>\n",
       "    </tr>\n",
       "    <tr>\n",
       "      <th>max</th>\n",
       "      <td>17.057300</td>\n",
       "      <td>8.802820</td>\n",
       "      <td>4615.110000</td>\n",
       "      <td>0.736804</td>\n",
       "      <td>0.174658</td>\n",
       "      <td>0.703859</td>\n",
       "      <td>6.241080</td>\n",
       "      <td>0.989713</td>\n",
       "      <td>7.170170</td>\n",
       "      <td>0.524888</td>\n",
       "      <td>...</td>\n",
       "      <td>331.925000</td>\n",
       "      <td>161.298000</td>\n",
       "      <td>43.651200</td>\n",
       "      <td>85.823100</td>\n",
       "      <td>0.416873</td>\n",
       "      <td>0.600906</td>\n",
       "      <td>1.893190</td>\n",
       "      <td>21.768200</td>\n",
       "      <td>22.714200</td>\n",
       "      <td>0.625484</td>\n",
       "    </tr>\n",
       "  </tbody>\n",
       "</table>\n",
       "<p>8 rows × 50 columns</p>\n",
       "</div>"
      ],
      "text/plain": [
       "                  0              1              2              3   \\\n",
       "count  104051.000000  104051.000000  104051.000000  104051.000000   \n",
       "mean        1.391436      -1.968469     123.922658      -3.174114   \n",
       "std        58.957217      58.754099     194.270763      58.676803   \n",
       "min      -999.000000    -999.000000    -999.000000    -999.000000   \n",
       "25%         4.014145       0.877140      49.284250       0.241627   \n",
       "50%         4.788010       1.382170     106.108000       0.272136   \n",
       "75%         5.628740       1.947860     138.801000       0.315113   \n",
       "max        17.057300       8.802820    4615.110000       0.736804   \n",
       "\n",
       "                  4              5              6              7   \\\n",
       "count  104051.000000  104051.000000  104051.000000  104051.000000   \n",
       "mean       -3.447119      -3.296034      -2.489737      -2.635440   \n",
       "std        58.660688      58.669717      58.718091      58.708555   \n",
       "min      -999.000000    -999.000000    -999.000000    -999.000000   \n",
       "25%         0.000000       0.085343       0.715976       0.783354   \n",
       "50%         0.004975       0.141268       0.922565       0.833894   \n",
       "75%         0.013080       0.212898       1.180470       0.874156   \n",
       "max         0.174658       0.703859       6.241080       0.989713   \n",
       "\n",
       "                  8              9   ...             40             41  \\\n",
       "count  104051.000000  104051.000000  ...  104051.000000  104051.000000   \n",
       "mean       -0.016763      -3.283057  ...     141.305164     -25.059731   \n",
       "std        58.863379      58.670370  ...      74.283624      66.559500   \n",
       "min      -999.000000    -999.000000  ...    -999.000000    -999.000000   \n",
       "25%         3.285645       0.142850  ...     122.917000     -40.085750   \n",
       "50%         3.427120       0.170573  ...     145.366000     -21.611500   \n",
       "75%         3.585440       0.200056  ...     167.018000      -3.313500   \n",
       "max         7.170170       0.524888  ...     331.925000     161.298000   \n",
       "\n",
       "                  42             43             44             45  \\\n",
       "count  104051.000000  104051.000000  104051.000000  104051.000000   \n",
       "mean       -2.728531       2.538039      -3.447381      -3.278175   \n",
       "std        58.715643      59.189446      58.660678      58.670696   \n",
       "min      -999.000000    -999.000000    -999.000000    -999.000000   \n",
       "25%        -0.028701       3.421455       0.000000       0.121924   \n",
       "50%         0.459658       4.766360       0.000000       0.168504   \n",
       "75%         1.147920       6.864360       0.001988       0.224723   \n",
       "max        43.651200      85.823100       0.416873       0.600906   \n",
       "\n",
       "                  46             47             48             49  \n",
       "count  104051.000000  104051.000000  104051.000000  104051.000000  \n",
       "mean       -3.614399      -0.607374      -1.848182      -3.226439  \n",
       "std        58.658871      58.858996      58.787424      58.673713  \n",
       "min      -999.000000    -999.000000    -999.000000    -999.000000  \n",
       "25%        -0.343828       1.421775       0.273633       0.197400  \n",
       "50%         0.042703       2.367630       1.126900       0.231338  \n",
       "75%         0.294466       3.778200       2.283790       0.263183  \n",
       "max         1.893190      21.768200      22.714200       0.625484  \n",
       "\n",
       "[8 rows x 50 columns]"
      ]
     },
     "execution_count": 4,
     "metadata": {},
     "output_type": "execute_result"
    }
   ],
   "source": [
    "x_train.describe()"
   ]
  },
  {
   "cell_type": "code",
   "execution_count": 5,
   "metadata": {
    "scrolled": true
   },
   "outputs": [
    {
     "data": {
      "image/png": "[encoded data removed]",
      "text/plain": [
       "<Figure size 1080x792 with 56 Axes>"
      ]
     },
     "metadata": {
      "needs_background": "light"
     },
     "output_type": "display_data"
    }
   ],
   "source": [
    "#histograms of each feature\n",
    "\n",
    "x_train.hist(figsize=(15,11))\n",
    "plt.show()"
   ]
  },
  {
   "cell_type": "code",
   "execution_count": 6,
   "metadata": {},
   "outputs": [
    {
     "data": {
      "image/png": "[encoded data removed]",
      "text/plain": [
       "<Figure size 1080x792 with 2 Axes>"
      ]
     },
     "metadata": {
      "needs_background": "light"
     },
     "output_type": "display_data"
    }
   ],
   "source": [
    "#correlation plot between all the feautures\n",
    "\n",
    "fig = plt.figure(figsize=(15,11))\n",
    "ax = fig.add_subplot(111)\n",
    "cax = ax.matshow(x_train.corr(), vmin=-1, vmax=1)\n",
    "fig.colorbar(cax)\n",
    "plt.show()"
   ]
  },
  {
   "cell_type": "markdown",
   "metadata": {},
   "source": [
    "## Transforming the dataset"
   ]
  },
  {
   "cell_type": "code",
   "execution_count": 7,
   "metadata": {},
   "outputs": [],
   "source": [
    "#scaling the data and replacing the -999.0 values with the mean of each column\n",
    "\n",
    "from sklearn.pipeline import Pipeline\n",
    "from sklearn.preprocessing import StandardScaler\n",
    "from sklearn.impute import SimpleImputer\n",
    "\n",
    "pipeline = Pipeline([\n",
    "    ('imputer', SimpleImputer(missing_values=-999.0, strategy='mean')),\n",
    "    ('scaler', StandardScaler())\n",
    "])\n",
    "\n",
    "x_train_prepped = pipeline.fit_transform(x_train)"
   ]
  },
  {
   "cell_type": "code",
   "execution_count": 8,
   "metadata": {},
   "outputs": [],
   "source": [
    "# 50 features is a bit much, and by the looks of our correlation plot, we don't need them all\n",
    "# so we will reduce to 10 dimensions using PCA\n",
    "\n",
    "#ended up not helping, I did not use this\n",
    "\n",
    "from sklearn.decomposition import PCA\n",
    "\n",
    "n = 10\n",
    "\n",
    "pca = PCA(n_components = n)\n",
    "\n",
    "x_tr_reduced = pca.fit_transform(x_train_prepped)"
   ]
  },
  {
   "cell_type": "markdown",
   "metadata": {},
   "source": [
    "## Fine tune Random Forest Classifier\n",
    "\n",
    "Looks for the best performing (based on accuracy) hyperparameters to fine tune the random forest classifier using both a grid search and a randomized grid search"
   ]
  },
  {
   "cell_type": "code",
   "execution_count": 9,
   "metadata": {},
   "outputs": [
    {
     "name": "stdout",
     "output_type": "stream",
     "text": [
      "The best score of the random forest classifier when fitting criterion is  0.935637331693112\n",
      "Best params:  {'criterion': 'entropy'}\n",
      "The best score of the random forest classifier when fitting max_depth is  0.9355604463195932\n",
      "Best params:  {'max_depth': None}\n",
      "The best score of the random forest classifier when fitting min_samples_split is  0.9352913475122776\n",
      "Best params:  {'min_samples_split': 2}\n",
      "The best score of the random forest classifier when fitting min_samples_leaf is  0.9345032724337103\n",
      "Best params:  {'min_samples_leaf': 1}\n",
      "The best score of the random forest classifier when fitting max_leaf_nodes is  0.9352336834821385\n",
      "Best params:  {'max_leaf_nodes': None}\n"
     ]
    }
   ],
   "source": [
    "from sklearn.model_selection import GridSearchCV, RandomizedSearchCV\n",
    "from sklearn.ensemble import RandomForestClassifier\n",
    "\n",
    "rfc = RandomForestClassifier(n_estimators=100)\n",
    "\n",
    "params = [{'criterion':[\"gini\", \"entropy\"]}, {'max_depth':[None,10,30,50,70]}, \\\n",
    "          {'min_samples_split':[2,5,20,100,300]}, \\\n",
    "          {'min_samples_leaf':[1,3,5,7,10]}, \\\n",
    "          {'max_leaf_nodes':[None,20,30,40,60]}]\n",
    "\n",
    "params_scores = []\n",
    "\n",
    "\n",
    "#evaluate the score of one parameter at a time using grid search\n",
    "for i in params:\n",
    "    gridsearch_rfc = GridSearchCV(rfc, i, cv=4, n_jobs=-1, return_train_score=True)\n",
    "    \n",
    "    gridsearch_rfc.fit(x_train_prepped, y_train)\n",
    "    \n",
    "    params_scores.append(gridsearch_rfc.cv_results_['mean_test_score'])\n",
    "    \n",
    "    print(\"The best score of the random forest classifier when fitting\",[key for key in i][0],\"is \",\\\n",
    "          gridsearch_rfc.best_score_)\n",
    "    \n",
    "    print(\"Best params: \", gridsearch_rfc.best_params_)"
   ]
  },
  {
   "cell_type": "code",
   "execution_count": 10,
   "metadata": {},
   "outputs": [
    {
     "data": {
      "image/png": "[encoded data removed]",
      "text/plain": [
       "<Figure size 504x288 with 1 Axes>"
      ]
     },
     "metadata": {
      "needs_background": "light"
     },
     "output_type": "display_data"
    },
    {
     "data": {
      "image/png": "[encoded data removed]",
      "text/plain": [
       "<Figure size 504x288 with 1 Axes>"
      ]
     },
     "metadata": {
      "needs_background": "light"
     },
     "output_type": "display_data"
    },
    {
     "data": {
      "image/png": "[encoded data removed]",
      "text/plain": [
       "<Figure size 504x288 with 1 Axes>"
      ]
     },
     "metadata": {
      "needs_background": "light"
     },
     "output_type": "display_data"
    },
    {
     "data": {
      "image/png": "[encoded data removed]",
      "text/plain": [
       "<Figure size 504x288 with 1 Axes>"
      ]
     },
     "metadata": {
      "needs_background": "light"
     },
     "output_type": "display_data"
    },
    {
     "data": {
      "image/png": "[encoded data removed]",
      "text/plain": [
       "<Figure size 504x288 with 1 Axes>"
      ]
     },
     "metadata": {
      "needs_background": "light"
     },
     "output_type": "display_data"
    }
   ],
   "source": [
    "#plots\n",
    "\n",
    "for i in range(len(params)):\n",
    "    \n",
    "    #take values and key names from dictionary\n",
    "    vals = list(params[i].values())[0]\n",
    "    keys = list(params[i].keys())[0]\n",
    "    \n",
    "    scores = params_scores[i]\n",
    "    \n",
    "    \n",
    "    \n",
    "    #each plot\n",
    "    plt.figure(figsize=(7,4))\n",
    "    \n",
    "    plt.bar(range(len(scores)), scores, align='center')\n",
    "    plt.xticks(range(len(scores)), vals)\n",
    "    \n",
    "    plt.title(\"Score for each value for parameter %s\"%(keys))\n",
    "    plt.ylabel(\"Score\")\n",
    "    plt.xlabel(\"Value, if blank value = None\")\n",
    "    \n",
    "    plt.show()"
   ]
  },
  {
   "cell_type": "code",
   "execution_count": 11,
   "metadata": {},
   "outputs": [],
   "source": [
    "#tune all parameters using randomized search\n",
    "\n",
    "from sklearn.model_selection import RandomizedSearchCV\n",
    "from scipy.stats import randint\n",
    "\n",
    "#parameters were selected based on the max scores in the plots\n",
    "\n",
    "params_grid = {'max_depth':[50,70,90], \\\n",
    "          'min_samples_leaf':[1,3,5,7,10], \\\n",
    "          'max_leaf_nodes':[None,40,80,120]}\n",
    "\n",
    "params_distr = {'max_depth': randint(low=20, high=90), \\\n",
    "                'min_samples_leaf': randint(low=1, high=10), \\\n",
    "                'max_leaf_nodes': randint(low=0,high=120)}"
   ]
  },
  {
   "cell_type": "code",
   "execution_count": 12,
   "metadata": {},
   "outputs": [
    {
     "name": "stdout",
     "output_type": "stream",
     "text": [
      "The best score of the random forest classifier when fitting all parameters is  0.9359833158739465\n",
      "Best params:  {'max_depth': 50, 'max_leaf_nodes': None, 'min_samples_leaf': 1}\n"
     ]
    }
   ],
   "source": [
    "#search using a coarse grid first\n",
    "\n",
    "from sklearn.ensemble import RandomForestClassifier\n",
    "from sklearn.model_selection import GridSearchCV\n",
    "\n",
    "rfc = RandomForestClassifier(n_estimators = 100, criterion='entropy', min_samples_split=7)\n",
    "\n",
    "coarse_grid = GridSearchCV(rfc, params_grid, cv=4, n_jobs=-1)\n",
    "\n",
    "coarse_grid.fit(x_train_prepped, y_train)\n",
    "\n",
    "print(\"The best score of the random forest classifier when fitting all parameters is \",\\\n",
    "      coarse_grid.best_score_)\n",
    "\n",
    "print(\"Best params: \", coarse_grid.best_params_)"
   ]
  },
  {
   "cell_type": "code",
   "execution_count": 13,
   "metadata": {},
   "outputs": [
    {
     "name": "stdout",
     "output_type": "stream",
     "text": [
      "The best score of the decision tree classifier when fitting all parameters is  0.9160315614458294\n",
      "Best params:  {'max_depth': 88, 'max_leaf_nodes': 113, 'min_samples_leaf': 3}\n"
     ]
    }
   ],
   "source": [
    "#search using randomized search\n",
    "\n",
    "rand_search = RandomizedSearchCV(rfc, params_distr, cv=3, n_jobs=-1)\n",
    "\n",
    "rand_search.fit(x_train_prepped, y_train)\n",
    "\n",
    "print(\"The best score of the decision tree classifier when fitting all parameters is \",\\\n",
    "      rand_search.best_score_)\n",
    "\n",
    "print(\"Best params: \", rand_search.best_params_)"
   ]
  },
  {
   "cell_type": "markdown",
   "metadata": {},
   "source": [
    "## Out of sample performance of Random Forest Classifier"
   ]
  },
  {
   "cell_type": "code",
   "execution_count": 14,
   "metadata": {},
   "outputs": [
    {
     "name": "stdout",
     "output_type": "stream",
     "text": [
      "The accuracy of our random forest classifier (using the best parameters according to grid search) is 0.9368008303540537\n"
     ]
    }
   ],
   "source": [
    "#we will use accuracy to measure the performance since this is a binary classification model\n",
    "from sklearn.metrics import accuracy_score\n",
    "\n",
    "#evaluate on the test set\n",
    "\n",
    "x_test_prepped = pipeline.transform(x_test)\n",
    "\n",
    "final_rfp = coarse_grid.best_estimator_\n",
    "rf_pred = final_rfp.predict(x_test_prepped)\n",
    "\n",
    "test_acc = accuracy_score(y_test, rf_pred)\n",
    "\n",
    "print(\"The accuracy of our random forest classifier (using the best parameters according to grid search) is\", test_acc)"
   ]
  },
  {
   "cell_type": "code",
   "execution_count": 15,
   "metadata": {},
   "outputs": [
    {
     "name": "stdout",
     "output_type": "stream",
     "text": [
      "The accuracy of our random forest classifier (using best parameters according to random search) is 0.9147349402221966\n"
     ]
    }
   ],
   "source": [
    "final_rfp = rand_search.best_estimator_\n",
    "rf_pred = final_rfp.predict(x_test_prepped)\n",
    "\n",
    "test_acc = accuracy_score(y_test, rf_pred)\n",
    "\n",
    "print(\"The accuracy of our random forest classifier (using best parameters according to random search) is\", test_acc)"
   ]
  },
  {
   "cell_type": "markdown",
   "metadata": {},
   "source": [
    "## Neural Network Classifier"
   ]
  },
  {
   "cell_type": "code",
   "execution_count": 16,
   "metadata": {},
   "outputs": [
    {
     "data": {
      "text/plain": [
       "(104051, 50)"
      ]
     },
     "execution_count": 16,
     "metadata": {},
     "output_type": "execute_result"
    }
   ],
   "source": [
    "import tensorflow as tf\n",
    "from tensorflow import keras\n",
    "\n",
    "x_train_prepped.shape"
   ]
  },
  {
   "cell_type": "code",
   "execution_count": 17,
   "metadata": {},
   "outputs": [
    {
     "name": "stdout",
     "output_type": "stream",
     "text": [
      "WARNING:tensorflow:From C:\\Users\\ailee\\AppData\\Local\\Continuum\\anaconda3\\lib\\site-packages\\tensorflow\\python\\ops\\resource_variable_ops.py:435: colocate_with (from tensorflow.python.framework.ops) is deprecated and will be removed in a future version.\n",
      "Instructions for updating:\n",
      "Colocations handled automatically by placer.\n",
      "_________________________________________________________________\n",
      "Layer (type)                 Output Shape              Param #   \n",
      "=================================================================\n",
      "flatten (Flatten)            (None, 50)                0         \n",
      "_________________________________________________________________\n",
      "dense (Dense)                (None, 300)               15300     \n",
      "_________________________________________________________________\n",
      "dense_1 (Dense)              (None, 100)               30100     \n",
      "_________________________________________________________________\n",
      "dense_2 (Dense)              (None, 1)                 101       \n",
      "=================================================================\n",
      "Total params: 45,501\n",
      "Trainable params: 45,501\n",
      "Non-trainable params: 0\n",
      "_________________________________________________________________\n"
     ]
    }
   ],
   "source": [
    "#binary model: using logistic activation, 1 output neuron\n",
    "\n",
    "nn_model = keras.models.Sequential([\n",
    "    keras.layers.Flatten(input_shape=[50]),\n",
    "    keras.layers.Dense(300, activation='relu'),\n",
    "    keras.layers.Dense(100, activation='relu'),\n",
    "    keras.layers.Dense(1, activation='sigmoid')\n",
    "])\n",
    "\n",
    "\n",
    "nn_model.compile(loss='binary_crossentropy',\n",
    "                optimizer='sgd',\n",
    "                metrics=['accuracy'])\n",
    "\n",
    "nn_model.summary()"
   ]
  },
  {
   "cell_type": "code",
   "execution_count": 18,
   "metadata": {},
   "outputs": [
    {
     "name": "stdout",
     "output_type": "stream",
     "text": [
      "WARNING:tensorflow:From C:\\Users\\ailee\\AppData\\Local\\Continuum\\anaconda3\\lib\\site-packages\\tensorflow\\python\\ops\\math_ops.py:3066: to_int32 (from tensorflow.python.ops.math_ops) is deprecated and will be removed in a future version.\n",
      "Instructions for updating:\n",
      "Use tf.cast instead.\n",
      "Epoch 1/30\n",
      "104051/104051 [==============================] - 7s 69us/sample - loss: 0.2254 - acc: 0.9124\n",
      "Epoch 2/30\n",
      "104051/104051 [==============================] - 7s 65us/sample - loss: 0.1707 - acc: 0.9335\n",
      "Epoch 3/30\n",
      "104051/104051 [==============================] - 6s 62us/sample - loss: 0.1577 - acc: 0.9384\n",
      "Epoch 4/30\n",
      "104051/104051 [==============================] - 7s 72us/sample - loss: 0.1504 - acc: 0.9407\n",
      "Epoch 5/30\n",
      "104051/104051 [==============================] - 8s 81us/sample - loss: 0.1452 - acc: 0.9434\n",
      "Epoch 6/30\n",
      "104051/104051 [==============================] - 9s 87us/sample - loss: 0.1415 - acc: 0.9444\n",
      "Epoch 7/30\n",
      "104051/104051 [==============================] - 8s 79us/sample - loss: 0.1384 - acc: 0.9460\n",
      "Epoch 8/30\n",
      "104051/104051 [==============================] - 8s 80us/sample - loss: 0.1358 - acc: 0.9466\n",
      "Epoch 9/30\n",
      "104051/104051 [==============================] - 8s 77us/sample - loss: 0.1337 - acc: 0.9477\n",
      "Epoch 10/30\n",
      "104051/104051 [==============================] - 8s 77us/sample - loss: 0.1318 - acc: 0.9483\n",
      "Epoch 11/30\n",
      "104051/104051 [==============================] - 8s 76us/sample - loss: 0.1299 - acc: 0.9496\n",
      "Epoch 12/30\n",
      "104051/104051 [==============================] - 8s 77us/sample - loss: 0.1284 - acc: 0.9500\n",
      "Epoch 13/30\n",
      "104051/104051 [==============================] - 8s 75us/sample - loss: 0.1268 - acc: 0.9504\n",
      "Epoch 14/30\n",
      "104051/104051 [==============================] - 8s 79us/sample - loss: 0.1255 - acc: 0.9507\n",
      "Epoch 15/30\n",
      "104051/104051 [==============================] - 8s 77us/sample - loss: 0.1241 - acc: 0.95151s - loss: \n",
      "Epoch 16/30\n",
      "104051/104051 [==============================] - 8s 80us/sample - loss: 0.1231 - acc: 0.9516\n",
      "Epoch 17/30\n",
      "104051/104051 [==============================] - 8s 77us/sample - loss: 0.1220 - acc: 0.9531\n",
      "Epoch 18/30\n",
      "104051/104051 [==============================] - 8s 77us/sample - loss: 0.1207 - acc: 0.9534\n",
      "Epoch 19/30\n",
      "104051/104051 [==============================] - 8s 77us/sample - loss: 0.1197 - acc: 0.9537\n",
      "Epoch 20/30\n",
      "104051/104051 [==============================] - 8s 76us/sample - loss: 0.1189 - acc: 0.9538\n",
      "Epoch 21/30\n",
      "104051/104051 [==============================] - 9s 82us/sample - loss: 0.1177 - acc: 0.9544\n",
      "Epoch 22/30\n",
      "104051/104051 [==============================] - 8s 75us/sample - loss: 0.1168 - acc: 0.9543\n",
      "Epoch 23/30\n",
      "104051/104051 [==============================] - 8s 75us/sample - loss: 0.1161 - acc: 0.9549\n",
      "Epoch 24/30\n",
      "104051/104051 [==============================] - 8s 78us/sample - loss: 0.1154 - acc: 0.9553\n",
      "Epoch 25/30\n",
      "104051/104051 [==============================] - 8s 76us/sample - loss: 0.1143 - acc: 0.9555\n",
      "Epoch 26/30\n",
      "104051/104051 [==============================] - 8s 75us/sample - loss: 0.1139 - acc: 0.9555\n",
      "Epoch 27/30\n",
      "104051/104051 [==============================] - 8s 81us/sample - loss: 0.1125 - acc: 0.9564\n",
      "Epoch 28/30\n",
      "104051/104051 [==============================] - 9s 88us/sample - loss: 0.1120 - acc: 0.9566\n",
      "Epoch 29/30\n",
      "104051/104051 [==============================] - 8s 76us/sample - loss: 0.1108 - acc: 0.9572\n",
      "Epoch 30/30\n",
      "104051/104051 [==============================] - 8s 78us/sample - loss: 0.1104 - acc: 0.9571\n"
     ]
    }
   ],
   "source": [
    "history = nn_model.fit(x_train_prepped, y_train, epochs=30)"
   ]
  },
  {
   "cell_type": "code",
   "execution_count": 19,
   "metadata": {},
   "outputs": [
    {
     "data": {
      "image/png": "[encoded data removed]",
      "text/plain": [
       "<Figure size 1080x792 with 1 Axes>"
      ]
     },
     "metadata": {
      "needs_background": "light"
     },
     "output_type": "display_data"
    }
   ],
   "source": [
    "pd.DataFrame(history.history).plot(figsize=(15,11))\n",
    "plt.grid(True)\n",
    "plt.gca().set_ylim(0,1)\n",
    "plt.show()"
   ]
  },
  {
   "cell_type": "code",
   "execution_count": 20,
   "metadata": {},
   "outputs": [
    {
     "name": "stdout",
     "output_type": "stream",
     "text": [
      "Epoch 1/15\n",
      "104051/104051 [==============================] - 8s 79us/sample - loss: 0.1095 - acc: 0.9577\n",
      "Epoch 2/15\n",
      "104051/104051 [==============================] - 8s 78us/sample - loss: 0.1086 - acc: 0.9581\n",
      "Epoch 3/15\n",
      "104051/104051 [==============================] - 8s 82us/sample - loss: 0.1078 - acc: 0.9581\n",
      "Epoch 4/15\n",
      "104051/104051 [==============================] - 8s 81us/sample - loss: 0.1071 - acc: 0.9593\n",
      "Epoch 5/15\n",
      "104051/104051 [==============================] - 8s 76us/sample - loss: 0.1066 - acc: 0.9586\n",
      "Epoch 6/15\n",
      "104051/104051 [==============================] - 8s 80us/sample - loss: 0.1057 - acc: 0.9594\n",
      "Epoch 7/15\n",
      "104051/104051 [==============================] - 8s 75us/sample - loss: 0.1052 - acc: 0.9591\n",
      "Epoch 8/15\n",
      "104051/104051 [==============================] - 8s 78us/sample - loss: 0.1043 - acc: 0.9595\n",
      "Epoch 9/15\n",
      "104051/104051 [==============================] - 8s 77us/sample - loss: 0.1037 - acc: 0.9595\n",
      "Epoch 10/15\n",
      "104051/104051 [==============================] - 8s 79us/sample - loss: 0.1031 - acc: 0.9603\n",
      "Epoch 11/15\n",
      "104051/104051 [==============================] - 8s 74us/sample - loss: 0.1024 - acc: 0.9607\n",
      "Epoch 12/15\n",
      "104051/104051 [==============================] - 8s 78us/sample - loss: 0.1015 - acc: 0.9608\n",
      "Epoch 13/15\n",
      "104051/104051 [==============================] - 8s 76us/sample - loss: 0.1007 - acc: 0.9608\n",
      "Epoch 14/15\n",
      "104051/104051 [==============================] - 9s 85us/sample - loss: 0.1002 - acc: 0.9613\n",
      "Epoch 15/15\n",
      "104051/104051 [==============================] - 9s 87us/sample - loss: 0.0995 - acc: 0.9615\n"
     ]
    }
   ],
   "source": [
    "#fit the model a bit more\n",
    "\n",
    "history = nn_model.fit(x_train_prepped, y_train, epochs=15)"
   ]
  },
  {
   "cell_type": "code",
   "execution_count": 21,
   "metadata": {},
   "outputs": [
    {
     "data": {
      "image/png": "[encoded data removed]",
      "text/plain": [
       "<Figure size 1080x792 with 1 Axes>"
      ]
     },
     "metadata": {
      "needs_background": "light"
     },
     "output_type": "display_data"
    }
   ],
   "source": [
    "#plotting the second half of our fit, it looks okay since it plateaus\n",
    "\n",
    "pd.DataFrame(history.history).plot(figsize=(15,11))\n",
    "plt.grid(True)\n",
    "plt.gca().set_ylim(0,1)\n",
    "plt.show()"
   ]
  },
  {
   "cell_type": "markdown",
   "metadata": {},
   "source": [
    "## Out of sample performance of NN model"
   ]
  },
  {
   "cell_type": "code",
   "execution_count": 22,
   "metadata": {},
   "outputs": [
    {
     "name": "stdout",
     "output_type": "stream",
     "text": [
      "26013/26013 [==============================] - 1s 41us/sample - loss: 0.1355 - acc: 0.9492\n",
      "The out of sample accuracy of our neural network model is  0.94917923\n"
     ]
    }
   ],
   "source": [
    "print(\"The out of sample accuracy of our neural network model is \",nn_model.evaluate(x_test_prepped, y_test)[1])"
   ]
  },
  {
   "cell_type": "markdown",
   "metadata": {},
   "source": [
    "## Comparison of the two models"
   ]
  },
  {
   "cell_type": "markdown",
   "metadata": {},
   "source": [
    "Since the labels of our dataset are either signal or background, this is a binary classification problem, and therefore the performance of both models were measured using their accuracy. Both models were pretty accurate, with the random forest classifier at 93.68% and the neural network at 94.92%, but training the neural network model was much, much quicker and required less lines of code, making it more practical to use and therefore preferred. "
   ]
  }
 ],
 "metadata": {
  "kernelspec": {
   "display_name": "Python 3",
   "language": "python",
   "name": "python3"
  },
  "language_info": {
   "codemirror_mode": {
    "name": "ipython",
    "version": 3
   },
   "file_extension": ".py",
   "mimetype": "text/x-python",
   "name": "python",
   "nbconvert_exporter": "python",
   "pygments_lexer": "ipython3",
   "version": "3.6.8"
  }
 },
 "nbformat": 4,
 "nbformat_minor": 2
}
